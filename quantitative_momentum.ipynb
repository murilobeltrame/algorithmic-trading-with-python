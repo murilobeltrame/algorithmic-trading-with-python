{
 "cells": [
  {
   "cell_type": "markdown",
   "metadata": {},
   "source": [
    "# Quantitative Momentum Strategy"
   ]
  },
  {
   "cell_type": "markdown",
   "metadata": {},
   "source": [
    "## Importing libraries"
   ]
  },
  {
   "cell_type": "code",
   "execution_count": null,
   "metadata": {},
   "outputs": [],
   "source": [
    "import sys\n",
    "!{sys.executable} -m pip install numpy\n",
    "!{sys.executable} -m pip install pandas\n",
    "!{sys.executable} -m pip install python-dotenv\n",
    "!{sys.executable} -m pip install requests\n",
    "!{sys.executable} -m pip install scipy\n",
    "!{sys.executable} -m pip install xlsxwriter"
   ]
  },
  {
   "cell_type": "code",
   "execution_count": null,
   "metadata": {},
   "outputs": [],
   "source": [
    "from dotenv import load_dotenv\n",
    "import math\n",
    "import numpy\n",
    "import os\n",
    "import pandas\n",
    "import requests\n",
    "from scipy.stats import percentileofscore as score\n",
    "from statistics import mean\n",
    "import xlsxwriter"
   ]
  },
  {
   "cell_type": "markdown",
   "metadata": {},
   "source": [
    "## Importing List of Stocks"
   ]
  },
  {
   "cell_type": "code",
   "execution_count": null,
   "metadata": {},
   "outputs": [],
   "source": [
    "stocks =  pandas.read_csv('sp_500_stocks.csv')"
   ]
  },
  {
   "cell_type": "markdown",
   "metadata": {},
   "source": [
    "## Acquiring API Token"
   ]
  },
  {
   "cell_type": "code",
   "execution_count": null,
   "metadata": {},
   "outputs": [],
   "source": [
    "load_dotenv()\n",
    "key = os.getenv(\"ACCESS_KEY\")"
   ]
  },
  {
   "cell_type": "markdown",
   "metadata": {},
   "source": [
    "## Making first API call"
   ]
  },
  {
   "cell_type": "code",
   "execution_count": null,
   "metadata": {},
   "outputs": [],
   "source": [
    "symbol = 'AAPL'\n",
    "api_url = f'https://sandbox.iexapis.com/stable/stock/{symbol}/stats/?token={key}'\n",
    "data = requests.get(api_url).json()"
   ]
  },
  {
   "cell_type": "markdown",
   "metadata": {},
   "source": [
    "## Parsing API result"
   ]
  },
  {
   "cell_type": "code",
   "execution_count": null,
   "metadata": {},
   "outputs": [],
   "source": [
    "data['year1ChangePercent']"
   ]
  },
  {
   "cell_type": "markdown",
   "metadata": {},
   "source": [
    "## Execution Batch API call"
   ]
  },
  {
   "cell_type": "code",
   "execution_count": null,
   "metadata": {},
   "outputs": [],
   "source": [
    "def chuncks(lst, n):\n",
    "    for i in range(0, len(lst), n):\n",
    "        yield lst[i:i + n]"
   ]
  },
  {
   "cell_type": "code",
   "execution_count": null,
   "metadata": {},
   "outputs": [],
   "source": [
    "symbol_groups = list(chuncks(stocks['Ticker'], 100))"
   ]
  },
  {
   "cell_type": "code",
   "execution_count": null,
   "metadata": {},
   "outputs": [],
   "source": [
    "symbol_strings = []\n",
    "for i in range(0, len(symbol_groups)):\n",
    "    symbol_strings.append(','.join(symbol_groups[i]))"
   ]
  },
  {
   "cell_type": "code",
   "execution_count": null,
   "metadata": {},
   "outputs": [],
   "source": [
    "data_columns = ['Ticker', 'Price', 'One Year Price Return', 'Number of Shares to Buy']\n",
    "resultDataFrame = pandas.DataFrame(columns = data_columns)"
   ]
  },
  {
   "cell_type": "code",
   "execution_count": null,
   "metadata": {},
   "outputs": [],
   "source": [
    "for symbol_string in symbol_strings[:1]:\n",
    "    batch_api_call_url = f'https://sandbox.iexapis.com/stable/stock/market/batch?symbols={symbol_string}&types=stats,price&token={key}'\n",
    "    data = requests.get(batch_api_call_url).json()\n",
    "    for symbol in symbol_string.split(','):\n",
    "        resultDataFrame = resultDataFrame.append(\n",
    "            pandas.Series([\n",
    "                symbol,\n",
    "                data[symbol]['price'],\n",
    "                data[symbol]['stats']['year1ChangePercent'],\n",
    "                'N/A'\n",
    "            ], index= data_columns),\n",
    "            ignore_index=True\n",
    "        )\n",
    "\n",
    "resultDataFrame"
   ]
  },
  {
   "cell_type": "markdown",
   "metadata": {},
   "source": [
    "## Removing Low-momentum Stocks"
   ]
  },
  {
   "cell_type": "code",
   "execution_count": null,
   "metadata": {},
   "outputs": [],
   "source": [
    "resultDataFrame.sort_values('One Year Price Return', ascending=False, inplace=True)\n",
    "resultDataFrame = resultDataFrame[:50]\n",
    "resultDataFrame.reset_index(inplace=True)\n",
    "resultDataFrame"
   ]
  },
  {
   "cell_type": "markdown",
   "metadata": {},
   "source": [
    "## Calculating the Number of Shares to Buy"
   ]
  },
  {
   "cell_type": "code",
   "execution_count": null,
   "metadata": {},
   "outputs": [],
   "source": [
    "def portfolio_input():\n",
    "    global portfolio_size\n",
    "    try:\n",
    "        portfolio_size = float(input('Enter the size of your portfolio:'))\n",
    "    except ValueError:\n",
    "        print('Should be a number')\n",
    "        portfolio_size = float(input('Enter the size of your portfolio:'))"
   ]
  },
  {
   "cell_type": "code",
   "execution_count": null,
   "metadata": {},
   "outputs": [],
   "source": [
    "portfolio_input()"
   ]
  },
  {
   "cell_type": "code",
   "execution_count": null,
   "metadata": {},
   "outputs": [],
   "source": [
    "position_size = float(portfolio_size / len(resultDataFrame.index))"
   ]
  },
  {
   "cell_type": "code",
   "execution_count": null,
   "metadata": {},
   "outputs": [],
   "source": [
    "for i in range(0, len(resultDataFrame.index)):\n",
    "    price = resultDataFrame.loc[i, 'Price']\n",
    "    resultDataFrame.loc[i, 'Number of Shares to Buy'] = math.floor(position_size / price)\n",
    "\n",
    "resultDataFrame"
   ]
  },
  {
   "cell_type": "markdown",
   "metadata": {},
   "source": [
    "## Building a Better (and More Realistic) Momentum Strategy\n",
    "\n",
    "- **High Quality** show \"slow and steady\" outperformance\n",
    "- **Low Quality** might not show any momentum for a long time, and surge upwards"
   ]
  },
  {
   "cell_type": "code",
   "execution_count": null,
   "metadata": {},
   "outputs": [],
   "source": [
    "hqm_columns = [\n",
    "    'Ticker',\n",
    "    'Price',\n",
    "    'Number of Shares to Buy',\n",
    "    'One Year Price Return',\n",
    "    'One Year Return Percentile',\n",
    "    'Six Months Price Return',\n",
    "    'Six Months Return Percentile',\n",
    "    'Three Months Price Return',\n",
    "    'Three Months Return Percentile',\n",
    "    'One Month Price Return',\n",
    "    'One Month Return Percentile',\n",
    "    'HQM Score'\n",
    "]\n",
    "\n",
    "hqm_dataframe = pandas.DataFrame(columns=hqm_columns)\n",
    "\n",
    "for symbol_string in symbol_strings:\n",
    "    batch_api_call_url = f'https://sandbox.iexapis.com/stable/stock/market/batch?symbols={symbol_string}&types=stats,price&token={key}'\n",
    "    data = requests.get(batch_api_call_url).json()\n",
    "    for symbol in symbol_string.split(','):\n",
    "        hqm_dataframe = hqm_dataframe.append(\n",
    "            pandas.Series([\n",
    "                symbol,\n",
    "                data[symbol]['price'],\n",
    "                'N/A',\n",
    "                data[symbol]['stats']['year1ChangePercent'],\n",
    "                'N/A (Percentile)',\n",
    "                data[symbol]['stats']['month6ChangePercent'],\n",
    "                'N/A (Percentile)',\n",
    "                data[symbol]['stats']['month3ChangePercent'],\n",
    "                'N/A (Percentile)',\n",
    "                data[symbol]['stats']['month1ChangePercent'],\n",
    "                'N/A (Percentile)',\n",
    "                'N/A'\n",
    "            ], index= hqm_columns),\n",
    "            ignore_index=True\n",
    "        )\n",
    "\n",
    "hqm_dataframe\n"
   ]
  },
  {
   "cell_type": "markdown",
   "metadata": {},
   "source": [
    "### Calculating momentum percetile"
   ]
  },
  {
   "cell_type": "code",
   "execution_count": null,
   "metadata": {},
   "outputs": [],
   "source": [
    "time_periods = [\n",
    "    'One Year',\n",
    "    'Six Months',\n",
    "    'Three Months',\n",
    "    'One Month',\n",
    "]\n",
    "\n",
    "for row in hqm_dataframe.index:\n",
    "    for time_period in time_periods:\n",
    "        \n",
    "        change_col = f'{time_period} Price Return'\n",
    "\n",
    "        if hqm_dataframe.loc[row, change_col] == None:\n",
    "            hqm_dataframe.loc[row, change_col] = 0\n",
    "\n",
    "for row in hqm_dataframe.index:\n",
    "    for time_period in time_periods:\n",
    "        \n",
    "        percentile_col = f'{time_period} Return Percentile'\n",
    "        change_col = f'{time_period} Price Return'\n",
    "\n",
    "        time_period_score = score(hqm_dataframe[change_col], hqm_dataframe.loc[row, change_col])\n",
    "        hqm_dataframe.loc[row, percentile_col] = time_period_score / 100\n",
    "\n",
    "hqm_dataframe"
   ]
  },
  {
   "cell_type": "markdown",
   "metadata": {},
   "source": [
    " ### Calculating HQM Score"
   ]
  },
  {
   "cell_type": "code",
   "execution_count": null,
   "metadata": {},
   "outputs": [],
   "source": [
    "for row in hqm_dataframe.index:\n",
    "    momentum_percentiles = []\n",
    "    for time_period in time_periods:\n",
    "        momentum_percentiles.append(hqm_dataframe.loc[row, f'{time_period} Return Percentile'])\n",
    "    hqm_dataframe.loc[row, 'HQM Score'] = mean(momentum_percentiles)\n",
    "\n",
    "hqm_dataframe"
   ]
  },
  {
   "cell_type": "markdown",
   "metadata": {},
   "source": [
    "### Selecting the 50 Best Momentum Stocks"
   ]
  },
  {
   "cell_type": "code",
   "execution_count": null,
   "metadata": {},
   "outputs": [],
   "source": [
    "hqm_dataframe.sort_values('HQM Score', ascending=False, inplace=True)\n",
    "hqm_dataframe = hqm_dataframe[:50]\n",
    "hqm_dataframe"
   ]
  },
  {
   "cell_type": "markdown",
   "metadata": {},
   "source": [
    "### Calculating the Number of Shares to Buy"
   ]
  },
  {
   "cell_type": "code",
   "execution_count": null,
   "metadata": {},
   "outputs": [],
   "source": [
    "portfolio_input()\n",
    "\n",
    "position_size = portfolio_size / len(hqm_dataframe.index)\n",
    "for i in hqm_dataframe.index:\n",
    "    hqm_dataframe.loc[i, 'Number of Shares to Buy'] = math.floor(position_size / hqm_dataframe.loc[i, 'Price'])\n",
    "\n",
    "hqm_dataframe"
   ]
  },
  {
   "cell_type": "markdown",
   "metadata": {},
   "source": [
    "## Write to Excel"
   ]
  },
  {
   "cell_type": "code",
   "execution_count": null,
   "metadata": {},
   "outputs": [],
   "source": [
    "writer = pandas.ExcelWriter('recommended momentum strategy trades.xlsx', engine = 'xlsxwriter')\n",
    "hqm_dataframe.to_excel(writer, 'Recommended Trades', index = False)\n",
    "\n",
    "background_color = '#0E0A23'\n",
    "font_color = '#FFFFFF'\n",
    "\n",
    "string_format = writer.book.add_format({\n",
    "    'font_color': font_color,\n",
    "    'bg_color': background_color,\n",
    "    'border': 1\n",
    "})\n",
    "\n",
    "dollar_format = writer.book.add_format({\n",
    "    'num_format': '$ 0.00',\n",
    "    'font_color': font_color,\n",
    "    'bg_color': background_color,\n",
    "    'border': 1\n",
    "})\n",
    "\n",
    "int_format = writer.book.add_format({\n",
    "    'num_format': '0',\n",
    "    'font_color': font_color,\n",
    "    'bg_color': background_color,\n",
    "    'border': 1\n",
    "})\n",
    "\n",
    "percent_format = writer.book.add_format({\n",
    "    'num_format': '0.0%',\n",
    "    'font_color': font_color,\n",
    "    'bg_color': background_color,\n",
    "    'border': 1\n",
    "})\n",
    "\n",
    "column_formats = {\n",
    "    'A': ['Ticker',string_format],\n",
    "    'B': ['Price',dollar_format],\n",
    "    'C': ['Number of Shares to Buy',int_format],\n",
    "    'D': ['One Year Price Return',percent_format],\n",
    "    'E': ['One Year Return Percentile',percent_format],\n",
    "    'F': ['Six Months Price Return',percent_format],\n",
    "    'G': ['Six Months Return Percentile',percent_format],\n",
    "    'H': ['Three Months Price Return',percent_format],\n",
    "    'I': ['Three Months Return Percentile',percent_format],\n",
    "    'J': ['One Month Price Return',percent_format],\n",
    "    'K': ['One Month Return Percentile',percent_format],\n",
    "    'L': ['HQM Score',percent_format]\n",
    "}\n",
    "\n",
    "for column in column_formats.keys():\n",
    "    writer.sheets['Recommended Trades'].set_column(f'{column}:{column}', 18, column_formats[column][1])\n",
    "    writer.sheets['Recommended Trades'].write(f'{column}1', column_formats[column][0], string_format)\n",
    "\n",
    "writer.save()\n"
   ]
  }
 ],
 "metadata": {
  "interpreter": {
   "hash": "aee8b7b246df8f9039afb4144a1f6fd8d2ca17a180786b69acc140d282b71a49"
  },
  "kernelspec": {
   "display_name": "Python 3.9.7 64-bit",
   "name": "python3"
  },
  "language_info": {
   "codemirror_mode": {
    "name": "ipython",
    "version": 3
   },
   "file_extension": ".py",
   "mimetype": "text/x-python",
   "name": "python",
   "nbconvert_exporter": "python",
   "pygments_lexer": "ipython3",
   "version": "3.9.7"
  },
  "orig_nbformat": 4
 },
 "nbformat": 4,
 "nbformat_minor": 2
}
